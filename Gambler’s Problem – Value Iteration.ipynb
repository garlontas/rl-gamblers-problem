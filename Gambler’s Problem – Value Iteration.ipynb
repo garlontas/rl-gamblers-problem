{
 "cells":[
  {
   "cell_type":"markdown",
   "source":[
    "# MDP"
   ],
   "attachments":{},
   "metadata":{
    "datalore":{
     "node_id":"MDP",
     "type":"MD",
     "hide_input_from_viewers":false,
     "hide_output_from_viewers":false,
     "sheet_delimiter":true
    }
   }
  },
  {
   "cell_type":"markdown",
   "source":[
    "# Gambler’s Problem – Value Iteration\n",
    "Dieses Notebook ermöglicht es, das Spielerproblem interaktiv zu erforschen\n",
    "Sie können die Wahrscheinlichkeit für Kopf (`p_head`) und den Tie-Break-Modus anpassen, um zu sehen, wie sich die optimale Wertfunktion und die Richtlinie ändern."
   ],
   "outputs":[
    {
     "data":{
      "application\/datalore_markdown_expressions+json":{
       "expressions":{}
      }
     },
     "metadata":{},
     "output_type":"display_data"
    }
   ],
   "attachments":{},
   "metadata":{
    "datalore":{
     "node_id":"K3YahQyFp03J71MRmDbGer",
     "type":"MD",
     "hide_input_from_viewers":false,
     "hide_output_from_viewers":false,
     "report_properties":{
      "rowId":"CRzv7aATLhUhyGGFRlKfgw",
      "relativeY":0
     }
    }
   }
  },
  {
   "cell_type":"code",
   "source":[
    "import numpy as np\n",
    "import matplotlib.pyplot as plt\n",
    "import pandas as pd\n",
    "from tabulate import tabulate"
   ],
   "execution_count":2,
   "outputs":[],
   "metadata":{
    "datalore":{
     "node_id":"78XJNLfbmrSFUSVvO2sA8C",
     "type":"CODE",
     "hide_input_from_viewers":false,
     "hide_output_from_viewers":false,
     "report_properties":{
      "rowId":"k4jNk1G8UYERoIrBaadR3b",
      "relativeY":0
     }
    }
   }
  },
  {
   "cell_type":"markdown",
   "source":[
    "## Initialisierung\n",
    "Hier werden alle Zustandswertfunktionen auf $v(s)=0$ gesetzt, außer die Zustandswertfunktion $v(100)=1$, da diese den Gewinnzustand darstellt.\n",
    "Die Policy ist aktuell noch nicht bestimmt und ordnet jedem Zustand $s$ die Aktion $a=0$ zu. Das Zielkapital ist in der W-Seminararbeit auf 100€ festgesetzt."
   ],
   "outputs":[
    {
     "data":{
      "application\/datalore_markdown_expressions+json":{
       "expressions":{}
      }
     },
     "metadata":{},
     "output_type":"display_data"
    }
   ],
   "attachments":{},
   "metadata":{
    "datalore":{
     "node_id":"r1lzOrdR3Hm7oNOn52zOtK",
     "type":"MD",
     "hide_input_from_viewers":false,
     "hide_output_from_viewers":false,
     "report_properties":{
      "rowId":"JooibTgAGDJqXb8OYcBvyA",
      "relativeY":0
     }
    }
   }
  },
  {
   "cell_type":"code",
   "source":[
    "tie_break_mode = \"\"\n",
    "p_head = 0.5"
   ],
   "execution_count":4,
   "outputs":[],
   "metadata":{
    "datalore":{
     "node_id":"tXGRzz6rVhXHokfWA3t2Ou",
     "type":"CODE",
     "hide_input_from_viewers":true,
     "hide_output_from_viewers":true
    }
   }
  },
  {
   "cell_type":"code",
   "source":[
    "goal = 100  # Zielkapital (in €)\n",
    "\n",
    "def initialize_value_function(goal):\n",
    "    V = np.zeros(goal + 1)\n",
    "    V[goal] = 1.0\n",
    "    return V\n",
    "\n",
    "def initialize_policy(goal):\n",
    "    return np.zeros(goal + 1, dtype=int)\n",
    "\n",
    "V = initialize_value_function(goal)\n",
    "policy = initialize_policy(goal)"
   ],
   "execution_count":5,
   "outputs":[],
   "metadata":{
    "datalore":{
     "node_id":"FGMpBiembddTFQWshkzpb0",
     "type":"CODE",
     "hide_input_from_viewers":false,
     "hide_output_from_viewers":false,
     "report_properties":{
      "rowId":"ifrSq9f13VBNxehbmoQJqy",
      "relativeY":0
     }
    }
   }
  },
  {
   "cell_type":"markdown",
   "source":[
    "## Iterative Aktualisierung\n",
    "Durch wiederholte Anwendung der Bellman-Optimalitätsgleichung werden die Zustandswerte immer weiter aktualisiert, bis die Abweichung kleiner als die Toleranzgrenze $\\theta$ ist."
   ],
   "outputs":[
    {
     "data":{
      "application\/datalore_markdown_expressions+json":{
       "expressions":{}
      }
     },
     "metadata":{},
     "output_type":"display_data"
    }
   ],
   "attachments":{},
   "metadata":{
    "datalore":{
     "node_id":"KEbWIfrqCUnlDwqt3HH5XI",
     "type":"MD",
     "hide_input_from_viewers":false,
     "hide_output_from_viewers":false,
     "report_properties":{
      "rowId":"uaQEGFJz19r288Kl5O0dHa",
      "relativeY":0
     }
    }
   }
  },
  {
   "cell_type":"code",
   "source":[
    "def bellman(state, V, p_head):\n",
    "    \"\"\"\n",
    "    Berechnet den Wert eines Zustands s nach der Bellman-Gleichung:\n",
    "    \n",
    "    V(s) = max_a [ p_head * V(s + a) + (1 - p_head) * V(s - a) ]\n",
    "    \"\"\"\n",
    "    max_action = min(state, goal - state)\n",
    "    action_values = np.zeros(max_action + 1)\n",
    "    \n",
    "    for action in range(1, max_action + 1):\n",
    "        action_values[action] = p_head * V[state + action] + (1 - p_head) * V[state - action]\n",
    "    \n",
    "    return np.max(action_values)\n",
    "\n",
    "\n",
    "def value_iteration(theta=1e-9):\n",
    "    global V\n",
    "    while True:\n",
    "        V_new = V.copy()\n",
    "        \n",
    "        for state in range(1, goal):\n",
    "            # Hier wird die Bellman-Gleichung direkt angewendet\n",
    "            V_new[state] = bellman(state, V, p_head)\n",
    "        \n",
    "        delta = np.max(np.abs(V - V_new))\n",
    "        V[:] = V_new\n",
    "        if delta < theta:\n",
    "            break\n",
    "    \n",
    "    return"
   ],
   "execution_count":7,
   "outputs":[],
   "metadata":{
    "datalore":{
     "node_id":"033GHxUenDgfpWNDdlt7ZE",
     "type":"CODE",
     "hide_input_from_viewers":false,
     "hide_output_from_viewers":false,
     "report_properties":{
      "rowId":"B8GZUOYdWX9LiEDTVznDUe",
      "relativeY":0
     }
    }
   }
  },
  {
   "cell_type":"markdown",
   "source":[
    "## Bestimmen der optimalen Policy\n",
    "\n",
    "Um die Optimale Policy zu bestimmen, muss man folgende Berechnung anstellen: $\\pi^*(s) = \\arg\\max_{a \\in A} \\sum_{s'} P(s' \\mid s, a) \\big[ R(s, a, s') + \\gamma V^*(s') \\big]$.\n",
    "Dabei gibt es für bestimmte Zustände $s$ mehrere Aktionen $a$, die denselben Gewinn liefern. Dies wird als Tie-Break bezeichnet. Mithilfe der Tie-Breaking-Strategie lassen sich hier diese Möglichkeiten simulieren:\n",
    "- **Min**: Immer die kleinste Aktion wird gewählt, also der kleinste Einsatz des Spielers\n",
    "- **Max**: Immer die größte Aktion wird gewählt, also der größte Einsatz des Spielers\n",
    "- **Goal**: Es wird, wenn möglich, die Aktion\/der Einsatz gewählt, der direkt zum Zielkapital führt\n",
    "- **Random**: Es wird immer eine zufällige Aktion aus den möglichen optimalen Aktionen gewählt"
   ],
   "outputs":[
    {
     "data":{
      "application\/datalore_markdown_expressions+json":{
       "expressions":{}
      }
     },
     "metadata":{},
     "output_type":"display_data"
    }
   ],
   "attachments":{},
   "metadata":{
    "datalore":{
     "node_id":"3pU2iuJyoUBgD8UPBgVT81",
     "type":"MD",
     "hide_input_from_viewers":false,
     "hide_output_from_viewers":false,
     "report_properties":{
      "rowId":"T9yKQNtzfj7FuH4zHQCszH",
      "relativeY":0
     }
    }
   }
  },
  {
   "cell_type":"code",
   "source":[
    "def choose_best_action(vals, state, max_action):\n",
    "    maxv = vals.max()\n",
    "    candidates = np.where(vals == maxv)[0] + 1  # Aktionen 1..max_action mit maximalem Wert\n",
    "    \n",
    "    if tie_break_mode == \"min\":\n",
    "        return candidates.min()\n",
    "    elif tie_break_mode == \"max\":\n",
    "        return candidates.max()\n",
    "    elif tie_break_mode == \"goal\":\n",
    "        # bevorzuge Aktion, die direkt zum Ziel führt\n",
    "        direct = goal - state\n",
    "        if direct in candidates:\n",
    "            return direct\n",
    "        else:\n",
    "            return candidates.min()\n",
    "    elif tie_break_mode == \"random\":\n",
    "        return np.random.choice(candidates)\n",
    "    else:\n",
    "        raise ValueError(f\"Unbekannter tie_break_mode: {tie_break_mode}\")\n",
    "\n",
    "def policy_iteration():\n",
    "    for state in range(1, goal):\n",
    "        max_action = min(state, goal - state)\n",
    "        if max_action < 1:\n",
    "            policy[state] = 0\n",
    "            continue\n",
    "\n",
    "        actions = np.arange(1, max_action + 1, dtype=float)\n",
    "        vals = p_head * V[state + actions.astype(int)] + (1 - p_head) * V[state - actions.astype(int)]\n",
    "\n",
    "        vals = np.round(vals, decimals=12)\n",
    "\n",
    "        best_action = choose_best_action(vals, state, max_action)\n",
    "        policy[state] = best_action\n",
    "    return policy"
   ],
   "execution_count":9,
   "outputs":[],
   "metadata":{
    "datalore":{
     "node_id":"n41iJk3Am8VRUwH0Pfz4gI",
     "type":"CODE",
     "hide_input_from_viewers":false,
     "hide_output_from_viewers":false,
     "report_properties":{
      "rowId":"qehoZfrOBi8SNAHiXZKhrn",
      "relativeY":0
     }
    }
   }
  },
  {
   "cell_type":"markdown",
   "source":[
    "## Hauptprogramm\n",
    "Hier werden die optimalen Zustandswerte als auch die ideale Policy $\\pi_*$ berechnet. Diese werden dann Als Diagramme gezeichnet. Duch die Widgets weiter unten lassen sich sowohl die Gewinnwahrscheinlichkeit $p_h$ als auch die Tie-Break-Strategie ändern."
   ],
   "outputs":[
    {
     "data":{
      "application\/datalore_markdown_expressions+json":{
       "expressions":{}
      }
     },
     "metadata":{},
     "output_type":"display_data"
    }
   ],
   "attachments":{},
   "metadata":{
    "datalore":{
     "node_id":"ECIpywYKTCm8HYemR9cEyR",
     "type":"MD",
     "hide_input_from_viewers":false,
     "hide_output_from_viewers":false,
     "report_properties":{
      "rowId":"rHRZwptwjO44wStG2FHliE",
      "relativeY":0
     }
    }
   }
  },
  {
   "cell_type":"code",
   "source":[
    "tie_break_mode = \"min\""
   ],
   "execution_count":11,
   "outputs":[],
   "metadata":{
    "datalore":{
     "node_id":"L9vIBpSuVHQ38QT33cUZ7d",
     "type":"CONTROL",
     "hide_input_from_viewers":false,
     "hide_output_from_viewers":false,
     "report_properties":{
      "rowId":"gsphQMryrF1g6MtfY7xPxt",
      "relativeY":0
     },
     "controls_state":[
      {
       "type":"DROPDOWN",
       "label":"Tie-Break-Strategie",
       "variable":"tie_break_mode",
       "value":"min",
       "values":[],
       "items":[
        "min",
        "max",
        "goal",
        "random"
       ],
       "multiselect":false,
       "respectSelectionOrder":false,
       "inputVersion":0
      }
     ]
    }
   }
  },
  {
   "cell_type":"code",
   "source":[
    "p_head = 0.45"
   ],
   "execution_count":12,
   "outputs":[
    {
     "data":{
      "application\/datalore_bound_expression_control_state+json":{
       "value":"0.45",
       "minValue":"0",
       "maxValue":"1",
       "step":"0.05"
      }
     },
     "metadata":{},
     "output_type":"display_data"
    }
   ],
   "metadata":{
    "datalore":{
     "node_id":"MXS1Eg7ygHOAFMrM1gl72l",
     "type":"CONTROL",
     "hide_input_from_viewers":false,
     "hide_output_from_viewers":false,
     "report_properties":{
      "rowId":"K2gnxiVlBWV8VfXmBThgw7",
      "relativeY":0
     },
     "controls_state":[
      {
       "type":"SLIDER",
       "label":"Gewinnwahrscheinlichkeit",
       "variable":"p_head",
       "value":"0.45",
       "min":"0",
       "max":"1",
       "step":"0.05",
       "minExpression":"0",
       "maxExpression":"1",
       "stepExpression":"0.05"
      }
     ]
    }
   }
  },
  {
   "cell_type":"code",
   "source":[
    "V_optimal = value_iteration()\n",
    "policy_optimal = policy_iteration()"
   ],
   "execution_count":13,
   "outputs":[],
   "metadata":{
    "datalore":{
     "node_id":"iayfTq1DiwDN4WAfIvg3qV",
     "type":"CODE",
     "hide_input_from_viewers":false,
     "hide_output_from_viewers":true,
     "report_properties":{
      "rowId":"qVIsI3NGdiC0MEaSLtwmic",
      "relativeY":0
     }
    }
   }
  },
  {
   "cell_type":"code",
   "source":[
    "# Use V and policy directly since value_iteration and policy_iteration modify them in place\n",
    "fig, axes = plt.subplots(1, 2, figsize=(12, 5))\n",
    "\n",
    "axes[0].plot(range(goal + 1), V, label='Aktionswertfunktion')\n",
    "axes[0].set_xlabel('Kapital')\n",
    "axes[0].set_ylabel('Wert')\n",
    "axes[0].set_title('Optimale Aktionswertfunktion V*(s)')\n",
    "axes[0].grid(True)\n",
    "axes[0].legend()\n",
    "\n",
    "axes[1].plot(range(goal + 1), policy, label='Policy', color='orange')\n",
    "axes[1].set_xlabel('Kapital')\n",
    "axes[1].set_ylabel('Einsatz')\n",
    "axes[1].set_title(f'Optimale Policy π*(s)\\n(Tie-Breaking: {tie_break_mode})')\n",
    "axes[1].grid(True)\n",
    "axes[1].legend()\n",
    "\n",
    "plt.tight_layout()\n",
    "plt.show()\n",
    "\n",
    "data = {\n",
    "    \"Kapital (s)\": np.arange(goal + 1),\n",
    "    \"V*(s)\": np.round(V, 3),\n",
    "    \"π*(s) (Einsatz)\": policy\n",
    "}\n",
    "\n",
    "df = pd.DataFrame(data)\n",
    "\n",
    "# Display as a pretty Markdown-style table\n",
    "print(tabulate(df, headers='keys', tablefmt='fancy_grid', showindex=False))"
   ],
   "execution_count":14,
   "outputs":[
    {
     "name":"stdout",
     "text":[
      "╒═══════════════╤═════════╤═══════════════════╕\n",
      "│   Kapital (s) │   V*(s) │   π*(s) (Einsatz) │\n",
      "╞═══════════════╪═════════╪═══════════════════╡\n",
      "│             0 │   0     │                 0 │\n",
      "├───────────────┼─────────┼───────────────────┤\n",
      "│             1 │   0.005 │                 1 │\n",
      "├───────────────┼─────────┼───────────────────┤\n",
      "│             2 │   0.011 │                 2 │\n",
      "├───────────────┼─────────┼───────────────────┤\n",
      "│             3 │   0.017 │                 3 │\n",
      "├───────────────┼─────────┼───────────────────┤\n",
      "│             4 │   0.023 │                 4 │\n",
      "├───────────────┼─────────┼───────────────────┤\n",
      "│             5 │   0.03  │                 5 │\n",
      "├───────────────┼─────────┼───────────────────┤\n",
      "│             6 │   0.038 │                 6 │\n",
      "├───────────────┼─────────┼───────────────────┤\n",
      "│             7 │   0.045 │                 7 │\n",
      "├───────────────┼─────────┼───────────────────┤\n",
      "│             8 │   0.052 │                 8 │\n",
      "├───────────────┼─────────┼───────────────────┤\n",
      "│             9 │   0.06  │                 9 │\n",
      "├───────────────┼─────────┼───────────────────┤\n",
      "│            10 │   0.068 │                10 │\n",
      "├───────────────┼─────────┼───────────────────┤\n",
      "│            11 │   0.076 │                11 │\n",
      "├───────────────┼─────────┼───────────────────┤\n",
      "│            12 │   0.085 │                12 │\n",
      "├───────────────┼─────────┼───────────────────┤\n",
      "│            13 │   0.094 │                12 │\n",
      "├───────────────┼─────────┼───────────────────┤\n",
      "│            14 │   0.101 │                11 │\n",
      "├───────────────┼─────────┼───────────────────┤\n",
      "│            15 │   0.108 │                10 │\n",
      "├───────────────┼─────────┼───────────────────┤\n",
      "│            16 │   0.116 │                 9 │\n",
      "├───────────────┼─────────┼───────────────────┤\n",
      "│            17 │   0.124 │                 8 │\n",
      "├───────────────┼─────────┼───────────────────┤\n",
      "│            18 │   0.133 │                 7 │\n",
      "├───────────────┼─────────┼───────────────────┤\n",
      "│            19 │   0.143 │                 6 │\n",
      "├───────────────┼─────────┼───────────────────┤\n",
      "│            20 │   0.15  │                 5 │\n",
      "├───────────────┼─────────┼───────────────────┤\n",
      "│            21 │   0.159 │                 4 │\n",
      "├───────────────┼─────────┼───────────────────┤\n",
      "│            22 │   0.17  │                 3 │\n",
      "├───────────────┼─────────┼───────────────────┤\n",
      "│            23 │   0.179 │                 2 │\n",
      "├───────────────┼─────────┼───────────────────┤\n",
      "│            24 │   0.189 │                 1 │\n",
      "├───────────────┼─────────┼───────────────────┤\n",
      "│            25 │   0.202 │                25 │\n",
      "├───────────────┼─────────┼───────────────────┤\n",
      "│            26 │   0.208 │                 1 │\n",
      "├───────────────┼─────────┼───────────────────┤\n",
      "│            27 │   0.215 │                 2 │\n",
      "├───────────────┼─────────┼───────────────────┤\n",
      "│            28 │   0.224 │                 3 │\n",
      "├───────────────┼─────────┼───────────────────┤\n",
      "│            29 │   0.231 │                 4 │\n",
      "├───────────────┼─────────┼───────────────────┤\n",
      "│            30 │   0.24  │                 5 │\n",
      "├───────────────┼─────────┼───────────────────┤\n",
      "│            31 │   0.249 │                 6 │\n",
      "├───────────────┼─────────┼───────────────────┤\n",
      "│            32 │   0.258 │                 7 │\n",
      "├───────────────┼─────────┼───────────────────┤\n",
      "│            33 │   0.266 │                 8 │\n",
      "├───────────────┼─────────┼───────────────────┤\n",
      "│            34 │   0.276 │                 9 │\n",
      "├───────────────┼─────────┼───────────────────┤\n",
      "│            35 │   0.285 │                10 │\n",
      "├───────────────┼─────────┼───────────────────┤\n",
      "│            36 │   0.296 │                11 │\n",
      "├───────────────┼─────────┼───────────────────┤\n",
      "│            37 │   0.307 │                12 │\n",
      "├───────────────┼─────────┼───────────────────┤\n",
      "│            38 │   0.317 │                12 │\n",
      "├───────────────┼─────────┼───────────────────┤\n",
      "│            39 │   0.325 │                11 │\n",
      "├───────────────┼─────────┼───────────────────┤\n",
      "│            40 │   0.334 │                10 │\n",
      "├───────────────┼─────────┼───────────────────┤\n",
      "│            41 │   0.344 │                 9 │\n",
      "├───────────────┼─────────┼───────────────────┤\n",
      "│            42 │   0.354 │                 8 │\n",
      "├───────────────┼─────────┼───────────────────┤\n",
      "│            43 │   0.365 │                 7 │\n",
      "├───────────────┼─────────┼───────────────────┤\n",
      "│            44 │   0.377 │                 6 │\n",
      "├───────────────┼─────────┼───────────────────┤\n",
      "│            45 │   0.386 │                 5 │\n",
      "├───────────────┼─────────┼───────────────────┤\n",
      "│            46 │   0.397 │                 4 │\n",
      "├───────────────┼─────────┼───────────────────┤\n",
      "│            47 │   0.41  │                 3 │\n",
      "├───────────────┼─────────┼───────────────────┤\n",
      "│            48 │   0.421 │                 2 │\n",
      "├───────────────┼─────────┼───────────────────┤\n",
      "│            49 │   0.434 │                 1 │\n",
      "├───────────────┼─────────┼───────────────────┤\n",
      "│            50 │   0.45  │                50 │\n",
      "├───────────────┼─────────┼───────────────────┤\n",
      "│            51 │   0.456 │                 1 │\n",
      "├───────────────┼─────────┼───────────────────┤\n",
      "│            52 │   0.463 │                 2 │\n",
      "├───────────────┼─────────┼───────────────────┤\n",
      "│            53 │   0.471 │                 3 │\n",
      "├───────────────┼─────────┼───────────────────┤\n",
      "│            54 │   0.479 │                 4 │\n",
      "├───────────────┼─────────┼───────────────────┤\n",
      "│            55 │   0.487 │                 5 │\n",
      "├───────────────┼─────────┼───────────────────┤\n",
      "│            56 │   0.497 │                 6 │\n",
      "├───────────────┼─────────┼───────────────────┤\n",
      "│            57 │   0.505 │                 7 │\n",
      "├───────────────┼─────────┼───────────────────┤\n",
      "│            58 │   0.514 │                 8 │\n",
      "├───────────────┼─────────┼───────────────────┤\n",
      "│            59 │   0.523 │                 9 │\n",
      "├───────────────┼─────────┼───────────────────┤\n",
      "│            60 │   0.533 │                10 │\n",
      "├───────────────┼─────────┼───────────────────┤\n",
      "│            61 │   0.543 │                11 │\n",
      "├───────────────┼─────────┼───────────────────┤\n",
      "│            62 │   0.554 │                12 │\n",
      "├───────────────┼─────────┼───────────────────┤\n",
      "│            63 │   0.565 │                12 │\n",
      "├───────────────┼─────────┼───────────────────┤\n",
      "│            64 │   0.573 │                11 │\n",
      "├───────────────┼─────────┼───────────────────┤\n",
      "│            65 │   0.582 │                10 │\n",
      "├───────────────┼─────────┼───────────────────┤\n",
      "│            66 │   0.592 │                 9 │\n",
      "├───────────────┼─────────┼───────────────────┤\n",
      "│            67 │   0.602 │                 8 │\n",
      "├───────────────┼─────────┼───────────────────┤\n",
      "│            68 │   0.613 │                 7 │\n",
      "├───────────────┼─────────┼───────────────────┤\n",
      "│            69 │   0.624 │                 6 │\n",
      "├───────────────┼─────────┼───────────────────┤\n",
      "│            70 │   0.634 │                 5 │\n",
      "├───────────────┼─────────┼───────────────────┤\n",
      "│            71 │   0.645 │                 4 │\n",
      "├───────────────┼─────────┼───────────────────┤\n",
      "│            72 │   0.657 │                 3 │\n",
      "├───────────────┼─────────┼───────────────────┤\n",
      "│            73 │   0.669 │                 2 │\n",
      "├───────────────┼─────────┼───────────────────┤\n",
      "│            74 │   0.682 │                 1 │\n",
      "├───────────────┼─────────┼───────────────────┤\n",
      "│            75 │   0.698 │                25 │\n",
      "├───────────────┼─────────┼───────────────────┤\n",
      "│            76 │   0.705 │                 1 │\n",
      "├───────────────┼─────────┼───────────────────┤\n",
      "│            77 │   0.713 │                 2 │\n",
      "├───────────────┼─────────┼───────────────────┤\n",
      "│            78 │   0.723 │                 3 │\n",
      "├───────────────┼─────────┼───────────────────┤\n",
      "│            79 │   0.733 │                 4 │\n",
      "├───────────────┼─────────┼───────────────────┤\n",
      "│            80 │   0.743 │                 5 │\n",
      "├───────────────┼─────────┼───────────────────┤\n",
      "│            81 │   0.755 │                 6 │\n",
      "├───────────────┼─────────┼───────────────────┤\n",
      "│            82 │   0.765 │                 7 │\n",
      "├───────────────┼─────────┼───────────────────┤\n",
      "│            83 │   0.775 │                 8 │\n",
      "├───────────────┼─────────┼───────────────────┤\n",
      "│            84 │   0.787 │                 9 │\n",
      "├───────────────┼─────────┼───────────────────┤\n",
      "│            85 │   0.799 │                10 │\n",
      "├───────────────┼─────────┼───────────────────┤\n",
      "│            86 │   0.812 │                11 │\n",
      "├───────────────┼─────────┼───────────────────┤\n",
      "│            87 │   0.825 │                12 │\n",
      "├───────────────┼─────────┼───────────────────┤\n",
      "│            88 │   0.838 │                12 │\n",
      "├───────────────┼─────────┼───────────────────┤\n",
      "│            89 │   0.848 │                11 │\n",
      "├───────────────┼─────────┼───────────────────┤\n",
      "│            90 │   0.859 │                10 │\n",
      "├───────────────┼─────────┼───────────────────┤\n",
      "│            91 │   0.871 │                 9 │\n",
      "├───────────────┼─────────┼───────────────────┤\n",
      "│            92 │   0.883 │                 8 │\n",
      "├───────────────┼─────────┼───────────────────┤\n",
      "│            93 │   0.896 │                 7 │\n",
      "├───────────────┼─────────┼───────────────────┤\n",
      "│            94 │   0.911 │                 6 │\n",
      "├───────────────┼─────────┼───────────────────┤\n",
      "│            95 │   0.922 │                 5 │\n",
      "├───────────────┼─────────┼───────────────────┤\n",
      "│            96 │   0.936 │                 4 │\n",
      "├───────────────┼─────────┼───────────────────┤\n",
      "│            97 │   0.951 │                 3 │\n",
      "├───────────────┼─────────┼───────────────────┤\n",
      "│            98 │   0.965 │                 2 │\n",
      "├───────────────┼─────────┼───────────────────┤\n",
      "│            99 │   0.981 │                 1 │\n",
      "├───────────────┼─────────┼───────────────────┤\n",
      "│           100 │   1     │                 0 │\n",
      "╘═══════════════╧═════════╧═══════════════════╛\n"
     ],
     "output_type":"stream"
    },
    {
     "data":{
      "image\/png":"[encoded data removed]"
     },
     "metadata":{
      "image\/png":{}
     },
     "output_type":"display_data"
    }
   ],
   "metadata":{
    "datalore":{
     "node_id":"O5ZlmCbHx4IjVGK2Q63d6L",
     "type":"CODE",
     "hide_input_from_viewers":true,
     "hide_output_from_viewers":false,
     "report_properties":{
      "rowId":"XM5Ba67hf9WJ5KO8RFVpWo",
      "relativeY":0
     }
    }
   }
  }
 ],
 "metadata":{
  "kernelspec":{
   "display_name":"Python",
   "language":"python",
   "name":"python"
  },
  "datalore":{
   "computation_mode":"REACTIVE",
   "package_manager":"pip",
   "base_environment":"default_3_11",
   "packages":[
    {
     "name":"tabulate",
     "source":"PIP"
    }
   ],
   "report_row_ids":[],
   "report_tabs":[
    {
     "id":"iSEJfvnGBb3cIJnkks3lhE",
     "name":"Report tab",
     "rows":[
      "CRzv7aATLhUhyGGFRlKfgw",
      "k4jNk1G8UYERoIrBaadR3b",
      "JooibTgAGDJqXb8OYcBvyA",
      "ifrSq9f13VBNxehbmoQJqy",
      "uaQEGFJz19r288Kl5O0dHa",
      "B8GZUOYdWX9LiEDTVznDUe",
      "T9yKQNtzfj7FuH4zHQCszH",
      "qehoZfrOBi8SNAHiXZKhrn",
      "rHRZwptwjO44wStG2FHliE",
      "gsphQMryrF1g6MtfY7xPxt",
      "K2gnxiVlBWV8VfXmBThgw7",
      "qVIsI3NGdiC0MEaSLtwmic",
      "XM5Ba67hf9WJ5KO8RFVpWo"
     ]
    }
   ],
   "report_link":"https:\/\/datalore.jetbrains.com\/report\/mS6Y2m7AajS7zjcOv1o0GD\/8qYYsPrT6CmSveX3ErSLFw",
   "version":4
  }
 },
 "nbformat":4,
 "nbformat_minor":4
}